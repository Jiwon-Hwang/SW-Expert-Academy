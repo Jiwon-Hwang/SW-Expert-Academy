{
 "cells": [
  {
   "cell_type": "markdown",
   "metadata": {},
   "source": [
    "## 1. if문"
   ]
  },
  {
   "cell_type": "code",
   "execution_count": 1,
   "metadata": {
    "scrolled": true
   },
   "outputs": [
    {
     "name": "stdout",
     "output_type": "stream",
     "text": [
      "합격입니당\n"
     ]
    }
   ],
   "source": [
    "score = 90\n",
    "if score>80 : print('합격입니당') #수행문이 짧으면 한줄에 사용 가능"
   ]
  },
  {
   "cell_type": "code",
   "execution_count": 2,
   "metadata": {},
   "outputs": [
    {
     "name": "stdout",
     "output_type": "stream",
     "text": [
      "합격입니당\n"
     ]
    }
   ],
   "source": [
    "result = '불합격입니다' # 이렇게 미리 선언과 값할당 해놓지 않고 밑에서 바로 쓰면 X!!\n",
    "score = 90\n",
    "if score >= 80:\n",
    "    result='합격입니당' # 80점 넘을 때만 result 변수의 값을 '합격입니당'으로 바꿔줌\n",
    "print(result) # 80점 안넘으면 그냥 그대로 result = '불합격입니다.'"
   ]
  },
  {
   "cell_type": "markdown",
   "metadata": {},
   "source": [
    "## 2. if~else문"
   ]
  },
  {
   "cell_type": "code",
   "execution_count": 3,
   "metadata": {},
   "outputs": [
    {
     "name": "stdout",
     "output_type": "stream",
     "text": [
      "합격\n"
     ]
    }
   ],
   "source": [
    "score = 80\n",
    "if score >= 60 :\n",
    "    print('합격')\n",
    "else:\n",
    "    print('불합격')"
   ]
  },
  {
   "cell_type": "markdown",
   "metadata": {},
   "source": [
    "만약, 특정 조건에 따라 **변수의 값만 변경**하기만 하면 되는 경우?   \n",
    "=> **변수 = 값 ~ if 조건 ~ else 다른 값**"
   ]
  },
  {
   "cell_type": "code",
   "execution_count": 4,
   "metadata": {
    "scrolled": true
   },
   "outputs": [
    {
     "name": "stdout",
     "output_type": "stream",
     "text": [
      "합격\n"
     ]
    }
   ],
   "source": [
    "score = 80\n",
    "result = \"합격\" if score >= 60 else \"60점 안넘으면 result = 불합격으로 바뀜~\"\n",
    "print(result)"
   ]
  },
  {
   "cell_type": "markdown",
   "metadata": {},
   "source": [
    "## 3. if~elif~else문"
   ]
  },
  {
   "cell_type": "code",
   "execution_count": 5,
   "metadata": {
    "scrolled": false
   },
   "outputs": [
    {
     "name": "stdout",
     "output_type": "stream",
     "text": [
      "70점은 C등급입니다.\n"
     ]
    }
   ],
   "source": [
    "score = 70\n",
    "if score >= 90:\n",
    "    grade = 'A'\n",
    "elif 80<=score<90:\n",
    "    grade = 'B'\n",
    "elif 70<=score<80:\n",
    "    grade = 'C'\n",
    "elif 60<=score<70:\n",
    "    grade = 'D'\n",
    "else:\n",
    "    grade = \"F\"\n",
    "print('%d점은 %s등급입니다.'%(score, grade))"
   ]
  },
  {
   "cell_type": "markdown",
   "metadata": {},
   "source": [
    "### [ if문을 활용해 계산기 만들기 ]"
   ]
  },
  {
   "cell_type": "markdown",
   "metadata": {},
   "source": [
    "* 사용자로부터 두 개의 숫자와 한 개의 연산자를 입력 받아 그 연산자에 따른 계산 수행 \n",
    "* 연산자는 + ,- ,* , / 지원  "
   ]
  },
  {
   "cell_type": "code",
   "execution_count": 6,
   "metadata": {},
   "outputs": [
    {
     "name": "stdout",
     "output_type": "stream",
     "text": [
      "첫 번째 숫자를 입력하세요: 3\n",
      "연산자를 입력하세요(+,-,*,/): +\n",
      "두 번째 숫자를 입력하세요: 2\n",
      "3 + 2 = 5\n"
     ]
    }
   ],
   "source": [
    "a=int(input('첫 번째 숫자를 입력하세요: '))\n",
    "b=input('연산자를 입력하세요(+,-,*,/): ')\n",
    "c=int(input('두 번째 숫자를 입력하세요: '))\n",
    "if b=='+':\n",
    "    print('{} + {} = {}'.format(a,c,a+c))\n",
    "elif b=='-':\n",
    "    print('{} - {} = {}'.format(a,c,a-c))\n",
    "elif b=='*':\n",
    "    print('{} * {} = {}'.format(a,c,a*c))\n",
    "elif b=='/':\n",
    "    print('{} / {} = {}'.format(a,c,a/c))\n",
    "else:\n",
    "    print('\"{}\"는 본 프로그램에서 지원하지 않는 연산자입니다.'.format(b))\n",
    "    "
   ]
  },
  {
   "cell_type": "code",
   "execution_count": 7,
   "metadata": {},
   "outputs": [
    {
     "name": "stdout",
     "output_type": "stream",
     "text": [
      "첫 번째 숫자를 입력하세요: 3\n",
      "연산자를 입력하세요(+,-,*,/): #\n",
      "두 번째 숫자를 입력하세요: 2\n",
      "\"#\"는 본 프로그램에서 지원하지 않는 연산자입니다.\n"
     ]
    }
   ],
   "source": [
    "a=int(input('첫 번째 숫자를 입력하세요: '))\n",
    "b=input('연산자를 입력하세요(+,-,*,/): ')\n",
    "c=int(input('두 번째 숫자를 입력하세요: '))\n",
    "if b=='+':\n",
    "    print('{} + {} = {}'.format(a,c,a+c))\n",
    "elif b=='-':\n",
    "    print('{} - {} = {}'.format(a,c,a-c))\n",
    "elif b=='*':\n",
    "    print('{} * {} = {}'.format(a,c,a*c))\n",
    "elif b=='/':\n",
    "    print('{} / {} = {}'.format(a,c,a/c))\n",
    "else:\n",
    "    print('\"{}\"는 본 프로그램에서 지원하지 않는 연산자입니다.'.format(b))\n",
    "    "
   ]
  },
  {
   "cell_type": "markdown",
   "metadata": {},
   "source": [
    "<hr>"
   ]
  },
  {
   "cell_type": "markdown",
   "metadata": {},
   "source": [
    "# [연습문제]"
   ]
  },
  {
   "cell_type": "markdown",
   "metadata": {},
   "source": [
    "#### 1. 다음의 결과와 같이 임의의 양의 정수를 입력받아 그 정수의 모든 약수를 구하십시오.  \n",
    "* 입력 : 9    \n",
    "* 출력 :   \n",
    "    1(은)는 9의 약수입니다.  \n",
    "    3(은)는 9의 약수입니다.  \n",
    "    9(은)는 9의 약수입니다.  "
   ]
  },
  {
   "cell_type": "code",
   "execution_count": 8,
   "metadata": {
    "scrolled": true
   },
   "outputs": [
    {
     "name": "stdout",
     "output_type": "stream",
     "text": [
      "9\n",
      "1(은)는 9의 약수입니다.\n",
      "3(은)는 9의 약수입니다.\n",
      "9(은)는 9의 약수입니다.\n"
     ]
    }
   ],
   "source": [
    "a=int(input())\n",
    "for i in range(1,a+1):\n",
    "    if a%i == 0:\n",
    "        print('%d(은)는 9의 약수입니다.'%i)"
   ]
  },
  {
   "cell_type": "markdown",
   "metadata": {},
   "source": [
    "#### 2. 다음의 결과와 같이 입력된 영어 알파벳 문자에 대해 대소문자를 구분하는 코드를 작성하십시오.  \n",
    "* 입력 : b\n",
    "* 출력 : b 는 소문자 입니다."
   ]
  },
  {
   "cell_type": "code",
   "execution_count": 16,
   "metadata": {},
   "outputs": [
    {
     "name": "stdout",
     "output_type": "stream",
     "text": [
      "b\n",
      "b 는 소문자 입니다.\n"
     ]
    }
   ],
   "source": [
    "a=input()\n",
    "if a.islower(): print('%s 는 소문자 입니다.'%a)\n",
    "    \n",
    "# 만약 3을 입력하면 문자열이긴하지만 소문자가 아니라서 if문 빠져나옴\n",
    "# int(input())으로하면 아예 오류!! => 왜냐면 .islower()메소드는, \n",
    "# 문자열 클래스 안에 있는 내장 함수니까!"
   ]
  },
  {
   "cell_type": "markdown",
   "metadata": {},
   "source": [
    "#### 3. 다음의 결과와 같이 가상의 두 사람이 가위 바위 보 중 하나를 내서 승패를 가르는 가위 바위 보 게임을 작성하십시오. 이 때 [\"가위\", \"바위\", \"보\"] 리스트를 활용합니다. \n",
    "[입력]  \n",
    "두 줄에 [\"가위\", \"바위\", \"보\"] 중 하나가 차례로 주어진다.\n",
    "\n",
    "\n",
    "[출력]  \n",
    "첫 번째 사람은 Man1, 두 번째 사람은 Man2라고 하고, 이긴 사람의 결과를 출력한다.  \n",
    "예를 들어, Man1이 이겼을 경우 Result : Man1 Win! 이라고 출력한다.  \n",
    "단, 비긴 경우는 Result : Draw 라고 출력한다.\n",
    "\n",
    "* 입력 :   \n",
    "바위  \n",
    "가위  \n",
    "* 출력 : Result : Man1 Win!"
   ]
  },
  {
   "cell_type": "code",
   "execution_count": 17,
   "metadata": {
    "scrolled": true
   },
   "outputs": [
    {
     "name": "stdout",
     "output_type": "stream",
     "text": [
      "바위\n",
      "가위\n",
      "Result : Man1 Win!\n"
     ]
    }
   ],
   "source": [
    "Man1=input()\n",
    "Man2=input()\n",
    "if Man1 != Man2:\n",
    "    if Man1 == '가위':\n",
    "        if Man2 == '바위': print('Result : Man2 Win!')\n",
    "        else: print('Result : Man1 Win!')\n",
    "    elif Man1 == '바위':\n",
    "        if Man2 == '가위': print('Result : Man1 Win!')\n",
    "        else: print('Result : Man2 Win!')\n",
    "    else:\n",
    "        if Man2 == '가위': print('Result : Man2 Win!')\n",
    "        else: print('Result : Man1 Win!')\n",
    "else:print('Result : Draw')"
   ]
  },
  {
   "cell_type": "markdown",
   "metadata": {},
   "source": [
    "#### 4. 다음의 결과와 같이 입력된 문자가 대문자일 경우 소문자로, 소문자일 경우 대문자로 변경하고, 알파벳이 아닐 경우엔 그냥 출력하는 코드를 작성하십시오. 출력 시 아스키코드를 함께 출력합니다.\n",
    "\n",
    "* 입력 : c  \n",
    "* 출력 : c(ASCII: 99) => C(ASCII: 67)"
   ]
  },
  {
   "cell_type": "code",
   "execution_count": 19,
   "metadata": {
    "scrolled": true
   },
   "outputs": [
    {
     "name": "stdout",
     "output_type": "stream",
     "text": [
      "c\n",
      "c(ASCII: 99) => C(ASCII: 67)\n"
     ]
    }
   ],
   "source": [
    "a=input()\n",
    "print('{}(ASCII: {}) => {}(ASCII: {})'.format(a, ord(a), a.upper(), ord(a.upper())))"
   ]
  },
  {
   "cell_type": "markdown",
   "metadata": {},
   "source": [
    "> cf. 문자형 <-> 아스키코드(숫자) \n",
    "* ord(문자) : 아스키 코드로(숫자) / cf. ord는 'ordinal'의 약자. '순서','서수'\n",
    "* chr(숫자) : 문자로 (단, 아스키코드에 해당하는!)\n",
    "    * str(숫자) : 숫자를 문자로 변환(아스키코드x)"
   ]
  },
  {
   "cell_type": "markdown",
   "metadata": {},
   "source": [
    "#### 5. 1~200 사이의 정수 가운데 7의 배수이면서 5의 배수는 아닌 모든 숫자들을 찾아 콤마(,)로 구분된 문자열을 구성해 출력하는 프로그램을 작성하십시오.\n",
    "\n",
    "* 입력 :  \n",
    "* 출력 : 7,14,21,28,42,49,56,63,77,84,91,98,112,119,126,133,147,154,161,168,182,189,196"
   ]
  },
  {
   "cell_type": "code",
   "execution_count": 1,
   "metadata": {},
   "outputs": [
    {
     "name": "stdout",
     "output_type": "stream",
     "text": [
      "7,14,21,28,42,49,56,63,77,84,91,98,112,119,126,133,147,154,161,168,182,189,196\n"
     ]
    }
   ],
   "source": [
    "s='' #빈 문자열\n",
    "for i in range(1,201):\n",
    "    if i%7 == 0 and i%5 != 0: \n",
    "        s+='{},'.format(str(i))  # 문자열의 '+' : 문자열 이어붙이기! (chr아님!)\n",
    "print(s[:-1]) # 문자열 슬라이싱 : 0번지(처음)부터 -1번지 그 전까지!"
   ]
  },
  {
   "cell_type": "code",
   "execution_count": 3,
   "metadata": {},
   "outputs": [
    {
     "name": "stdout",
     "output_type": "stream",
     "text": [
      "지+원+이+바+보\n",
      "지원이바보뿡\n"
     ]
    }
   ],
   "source": [
    "s=\"지원이바보\"\n",
    "print('+'.join(s))\n",
    "print(s+'뿡')"
   ]
  },
  {
   "cell_type": "markdown",
   "metadata": {},
   "source": [
    "#### 6. 100~300 사이의 숫자에서 각각의 자리 숫자가 짝수인 숫자를 찾아 콤마(,)로 구분해 출력하는 프로그램을 작성하십시오.\n",
    "\n",
    "* 입력 :  \n",
    "* 출력 : 200,202,204,206,208,220,222,224,226,228,240,242,244,246,248,260,262,264,266,268,280,282,284,286,288"
   ]
  },
  {
   "cell_type": "code",
   "execution_count": 6,
   "metadata": {},
   "outputs": [
    {
     "name": "stdout",
     "output_type": "stream",
     "text": [
      "200,202,204,206,208,220,222,224,226,228,240,242,244,246,248,260,262,264,266,268,280,282,284,286,288\n"
     ]
    }
   ],
   "source": [
    "# sol1) 문자형, 정수형 형변환 이용\n",
    "s=''\n",
    "for i in range(100,301,2):\n",
    "    if int(str(i)[0]) % 2 == 0 and int(str(i)[1]) % 2 == 0 and int(str(i)[2]) % 2 == 0:\n",
    "        s+='{},'.format(str(i))\n",
    "print(s[:-1])"
   ]
  },
  {
   "cell_type": "code",
   "execution_count": 7,
   "metadata": {},
   "outputs": [
    {
     "name": "stdout",
     "output_type": "stream",
     "text": [
      "200,202,204,206,208,220,222,224,226,228,240,242,244,246,248,260,262,264,266,268,280,282,284,286,288\n"
     ]
    }
   ],
   "source": [
    "# sol2) //(몫 연산자), %(나머지 연산자) 이용\n",
    "s=''\n",
    "for i in range(100,301,2):\n",
    "    if (i//100)%2==0 and (i//10)%2==0 and i%2==0 :\n",
    "        s+='{},'.format(str(i))\n",
    "print(s[:-1])"
   ]
  },
  {
   "cell_type": "markdown",
   "metadata": {},
   "source": [
    "> cf. 참고로, 파이썬은 &&, || 대신 **and 와 or**을 쓴다!!"
   ]
  }
 ],
 "metadata": {
  "kernelspec": {
   "display_name": "Python 3",
   "language": "python",
   "name": "python3"
  },
  "language_info": {
   "codemirror_mode": {
    "name": "ipython",
    "version": 3
   },
   "file_extension": ".py",
   "mimetype": "text/x-python",
   "name": "python",
   "nbconvert_exporter": "python",
   "pygments_lexer": "ipython3",
   "version": "3.7.3"
  }
 },
 "nbformat": 4,
 "nbformat_minor": 2
}
