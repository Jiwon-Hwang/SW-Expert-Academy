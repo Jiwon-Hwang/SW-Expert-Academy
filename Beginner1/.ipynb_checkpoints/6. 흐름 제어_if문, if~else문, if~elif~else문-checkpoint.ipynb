{
 "cells": [
  {
   "cell_type": "markdown",
   "metadata": {},
   "source": [
    "## 1. if문"
   ]
  },
  {
   "cell_type": "code",
   "execution_count": 1,
   "metadata": {
    "scrolled": true
   },
   "outputs": [
    {
     "name": "stdout",
     "output_type": "stream",
     "text": [
      "합격입니당\n"
     ]
    }
   ],
   "source": [
    "score = 90\n",
    "if score>80 : print('합격입니당') #수행문이 짧으면 한줄에 사용 가능"
   ]
  },
  {
   "cell_type": "code",
   "execution_count": 3,
   "metadata": {},
   "outputs": [
    {
     "name": "stdout",
     "output_type": "stream",
     "text": [
      "합격입니당\n"
     ]
    }
   ],
   "source": [
    "result = '불합격입니다' # 이렇게 미리 선언과 값할당 해놓지 않고 밑에서 바로 쓰면 X!!\n",
    "score = 90\n",
    "if score >= 80:\n",
    "    result='합격입니당' # 80점 넘을 때만 result 변수의 값을 '합격입니당'으로 바꿔줌\n",
    "print(result) # 80점 안넘으면 그냥 그대로 result = '불합격입니다.'"
   ]
  },
  {
   "cell_type": "markdown",
   "metadata": {},
   "source": [
    "## 2. if~else문"
   ]
  },
  {
   "cell_type": "code",
   "execution_count": 4,
   "metadata": {},
   "outputs": [
    {
     "name": "stdout",
     "output_type": "stream",
     "text": [
      "합격\n"
     ]
    }
   ],
   "source": [
    "score = 80\n",
    "if score >= 60 :\n",
    "    print('합격')\n",
    "else:\n",
    "    print('불합격')"
   ]
  },
  {
   "cell_type": "markdown",
   "metadata": {},
   "source": [
    "만약, 특정 조건에 따라 **변수의 값만 변경**하기만 하면 되는 경우?   \n",
    "=> **변수 = 값 ~ if 조건 ~ else 다른 값**"
   ]
  },
  {
   "cell_type": "code",
   "execution_count": 7,
   "metadata": {
    "scrolled": true
   },
   "outputs": [
    {
     "name": "stdout",
     "output_type": "stream",
     "text": [
      "합격\n"
     ]
    }
   ],
   "source": [
    "score = 80\n",
    "result = \"합격\" if score >= 60 else \"60점 안넘으면 result = 불합격으로 바뀜~\"\n",
    "print(result)"
   ]
  },
  {
   "cell_type": "markdown",
   "metadata": {},
   "source": [
    "## 3. if~elif~else문"
   ]
  },
  {
   "cell_type": "code",
   "execution_count": 8,
   "metadata": {
    "scrolled": false
   },
   "outputs": [
    {
     "name": "stdout",
     "output_type": "stream",
     "text": [
      "70점은 C등급입니다.\n"
     ]
    }
   ],
   "source": [
    "score = 70\n",
    "if score >= 90:\n",
    "    grade = 'A'\n",
    "elif 80<=score<90:\n",
    "    grade = 'B'\n",
    "elif 70<=score<80:\n",
    "    grade = 'C'\n",
    "elif 60<=score<70:\n",
    "    grade = 'D'\n",
    "else:\n",
    "    grade = \"F\"\n",
    "print('%d점은 %s등급입니다.'%(score, grade))"
   ]
  },
  {
   "cell_type": "markdown",
   "metadata": {},
   "source": [
    "### [ if문을 활용해 계산기 만들기 ]"
   ]
  },
  {
   "cell_type": "markdown",
   "metadata": {},
   "source": [
    "* 사용자로부터 두 개의 숫자와 한 개의 연산자를 입력 받아 그 연산자에 따른 계산 수행 \n",
    "* 연산자는 + ,- ,* , / 지원  "
   ]
  },
  {
   "cell_type": "code",
   "execution_count": 10,
   "metadata": {},
   "outputs": [
    {
     "name": "stdout",
     "output_type": "stream",
     "text": [
      "첫 번째 숫자를 입력하세요: 2\n",
      "연산자를 입력하세요(+,-,*,/): +\n",
      "두 번째 숫자를 입력하세요: 3\n",
      "2 + 3 = 5\n"
     ]
    }
   ],
   "source": [
    "a=int(input('첫 번째 숫자를 입력하세요: '))\n",
    "b=input('연산자를 입력하세요(+,-,*,/): ')\n",
    "c=int(input('두 번째 숫자를 입력하세요: '))\n",
    "if b=='+':\n",
    "    print('{} + {} = {}'.format(a,c,a+c))\n",
    "elif b=='-':\n",
    "    print('{} - {} = {}'.format(a,c,a-c))\n",
    "elif b=='*':\n",
    "    print('{} * {} = {}'.format(a,c,a*c))\n",
    "elif b=='/':\n",
    "    print('{} / {} = {}'.format(a,c,a/c))\n",
    "else:\n",
    "    print('\"{}\"는 본 프로그램에서 지원하지 않는 연산자입니다.'.format(b))\n",
    "    "
   ]
  },
  {
   "cell_type": "code",
   "execution_count": 11,
   "metadata": {},
   "outputs": [
    {
     "name": "stdout",
     "output_type": "stream",
     "text": [
      "첫 번째 숫자를 입력하세요: 2\n",
      "연산자를 입력하세요(+,-,*,/): #\n",
      "두 번째 숫자를 입력하세요: 3\n",
      "\"#\"는 본 프로그램에서 지원하지 않는 연산자입니다.\n"
     ]
    }
   ],
   "source": [
    "a=int(input('첫 번째 숫자를 입력하세요: '))\n",
    "b=input('연산자를 입력하세요(+,-,*,/): ')\n",
    "c=int(input('두 번째 숫자를 입력하세요: '))\n",
    "if b=='+':\n",
    "    print('{} + {} = {}'.format(a,c,a+c))\n",
    "elif b=='-':\n",
    "    print('{} - {} = {}'.format(a,c,a-c))\n",
    "elif b=='*':\n",
    "    print('{} * {} = {}'.format(a,c,a*c))\n",
    "elif b=='/':\n",
    "    print('{} / {} = {}'.format(a,c,a/c))\n",
    "else:\n",
    "    print('\"{}\"는 본 프로그램에서 지원하지 않는 연산자입니다.'.format(b))\n",
    "    "
   ]
  },
  {
   "cell_type": "markdown",
   "metadata": {},
   "source": [
    "<hr>"
   ]
  },
  {
   "cell_type": "markdown",
   "metadata": {},
   "source": [
    "# [연습문제]"
   ]
  },
  {
   "cell_type": "markdown",
   "metadata": {},
   "source": [
    "인치(inch)를 센티미터(cm)으로 변환하는 프로그램을 작성하십시오.  \n",
    "이 때 1 인치는 2.54 센티미터입니다.  \n",
    "* 입력 : 3  \n",
    "* 출력 : 3.00 inch => 7.62 cm  "
   ]
  },
  {
   "cell_type": "code",
   "execution_count": 31,
   "metadata": {
    "scrolled": true
   },
   "outputs": [
    {
     "name": "stdout",
     "output_type": "stream",
     "text": [
      "3\n",
      "3.00inch => 7.62cm \n",
      "3.00inch => 7.62cm\n"
     ]
    }
   ],
   "source": [
    "a=int(input())\n",
    "print('{0:.2f}inch => {1:.2f}cm '.format(a, a*2.54)) # sol1) .format() 이용\n",
    "print('%.2finch => %.2fcm'%(a, a*2.54)) # sol2) % 이용"
   ]
  }
 ],
 "metadata": {
  "kernelspec": {
   "display_name": "Python 3",
   "language": "python",
   "name": "python3"
  },
  "language_info": {
   "codemirror_mode": {
    "name": "ipython",
    "version": 3
   },
   "file_extension": ".py",
   "mimetype": "text/x-python",
   "name": "python",
   "nbconvert_exporter": "python",
   "pygments_lexer": "ipython3",
   "version": "3.7.3"
  }
 },
 "nbformat": 4,
 "nbformat_minor": 2
}
