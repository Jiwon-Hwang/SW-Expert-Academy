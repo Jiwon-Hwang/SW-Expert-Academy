{
 "cells": [
  {
   "cell_type": "markdown",
   "metadata": {},
   "source": [
    "## 1. 산술, 대입 연산자"
   ]
  },
  {
   "cell_type": "markdown",
   "metadata": {},
   "source": [
    "### 산술 연산자"
   ]
  },
  {
   "cell_type": "code",
   "execution_count": 9,
   "metadata": {
    "scrolled": false
   },
   "outputs": [
    {
     "name": "stdout",
     "output_type": "stream",
     "text": [
      "3.5\n",
      "3\n",
      "1\n",
      "\n",
      "3.5\n",
      "3\n",
      "1\n"
     ]
    }
   ],
   "source": [
    "a = 7/2  # 진짜 나눗셈 연산자\n",
    "b = 7//2 # ***몫 연산자***\n",
    "c = 7%2  # 나머지 연산자\n",
    "print(a)\n",
    "print(b)\n",
    "print(c)\n",
    "\n",
    "print(\"\\n{}\\n{}\\n{}\".format(a,b,c)) # 참고로 이렇게 format()함수로 문자열 포맷팅하면,\n",
    "                                    # print문 한번만 써서 변수 각각 개행해서 출력가능"
   ]
  },
  {
   "cell_type": "code",
   "execution_count": 12,
   "metadata": {
    "scrolled": true
   },
   "outputs": [
    {
     "name": "stdout",
     "output_type": "stream",
     "text": [
      "3 - 2 = 1\n",
      "3 + 2 = 5\n"
     ]
    }
   ],
   "source": [
    "x,y = 3,2\n",
    "print(\"{} - {} = {}\".format(x,y,x-y))\n",
    "print(\"%d + %d = %d\" % (x,y,x+y))"
   ]
  },
  {
   "cell_type": "markdown",
   "metadata": {},
   "source": [
    "### 문자형(char, string)과 숫자형(int, float)의 연산"
   ]
  },
  {
   "cell_type": "code",
   "execution_count": 16,
   "metadata": {
    "scrolled": true
   },
   "outputs": [
    {
     "name": "stdout",
     "output_type": "stream",
     "text": [
      "23\n",
      "5\n"
     ]
    }
   ],
   "source": [
    "a,b,c = \"2\", \"3\", 4\n",
    "print(a+b) # 여기서의 + : \"문자열 접합\" => a+c이런식으로는 불가능! (문자열끼리만)\n",
    "print(int(a)+int(b)) # 정수형으로 변환"
   ]
  },
  {
   "cell_type": "markdown",
   "metadata": {},
   "source": [
    "## 2. 관계, 논리, 비트 연산자"
   ]
  },
  {
   "cell_type": "markdown",
   "metadata": {},
   "source": [
    "### 관계 연산자(대소 비교 등)\n",
    "관계를 비교 후, **True나 False를 반환**해줌"
   ]
  },
  {
   "cell_type": "code",
   "execution_count": 17,
   "metadata": {
    "scrolled": true
   },
   "outputs": [
    {
     "data": {
      "text/plain": [
       "True"
      ]
     },
     "execution_count": 17,
     "metadata": {},
     "output_type": "execute_result"
    }
   ],
   "source": [
    "a=10\n",
    "8<a<=10"
   ]
  },
  {
   "cell_type": "code",
   "execution_count": 18,
   "metadata": {},
   "outputs": [
    {
     "name": "stdout",
     "output_type": "stream",
     "text": [
      "False\n"
     ]
    }
   ],
   "source": [
    "print(3>5)"
   ]
  },
  {
   "cell_type": "markdown",
   "metadata": {},
   "source": [
    "### 논리 연산자(and, or, not)\n",
    "양변이나 그 조건 만족하는지 검사 후, **True나 False 반환**해줌  \n",
    "**while(1) : 무한루프!** => 따라서 **0만 False**고, 나머진 다 True."
   ]
  },
  {
   "cell_type": "code",
   "execution_count": 22,
   "metadata": {
    "scrolled": true
   },
   "outputs": [
    {
     "name": "stdout",
     "output_type": "stream",
     "text": [
      "True\n",
      "0\n",
      "3\n",
      "0\n",
      "True\n",
      "False\n"
     ]
    }
   ],
   "source": [
    "print(True and True) # True and True => True\n",
    "print(1 and 0) # 1(True) and 0(False) => 0\n",
    "print(3 or 0) # 3(True) or 0(False) => 3(True)\n",
    "print(False or 0) # False or (0)False => False\n",
    "print(not 0)\n",
    "print(not True)"
   ]
  },
  {
   "cell_type": "markdown",
   "metadata": {},
   "source": [
    "### 비트 연산자(&, |, ^, ~, <<, >>)"
   ]
  },
  {
   "cell_type": "markdown",
   "metadata": {},
   "source": [
    "![title](bit_operator.png)"
   ]
  },
  {
   "cell_type": "code",
   "execution_count": 27,
   "metadata": {},
   "outputs": [
    {
     "name": "stdout",
     "output_type": "stream",
     "text": [
      "2\n",
      "4\n"
     ]
    }
   ],
   "source": [
    "a,b = 2,3 # a=0010, b=0011\n",
    "print(a&b) # 0010 & 0011 = 0010 = 2 (10진수)\n",
    "print(a<<1) # 0010 << 1 = 0100 = 4 (10진수)"
   ]
  },
  {
   "cell_type": "markdown",
   "metadata": {},
   "source": [
    "<hr>"
   ]
  },
  {
   "cell_type": "markdown",
   "metadata": {},
   "source": [
    "# [연습문제]"
   ]
  },
  {
   "cell_type": "markdown",
   "metadata": {},
   "source": [
    "인치(inch)를 센티미터(cm)으로 변환하는 프로그램을 작성하십시오.  \n",
    "이 때 1 인치는 2.54 센티미터입니다.  \n",
    "* 입력 : 3  \n",
    "* 출력 : 3.00 inch => 7.62 cm  "
   ]
  },
  {
   "cell_type": "code",
   "execution_count": 31,
   "metadata": {
    "scrolled": true
   },
   "outputs": [
    {
     "name": "stdout",
     "output_type": "stream",
     "text": [
      "3\n",
      "3.00inch => 7.62cm \n",
      "3.00inch => 7.62cm\n"
     ]
    }
   ],
   "source": [
    "a=int(input())\n",
    "print('{0:.2f}inch => {1:.2f}cm '.format(a, a*2.54)) # sol1) .format() 이용\n",
    "print('%.2finch => %.2fcm'%(a, a*2.54)) # sol2) % 이용"
   ]
  }
 ],
 "metadata": {
  "kernelspec": {
   "display_name": "Python 3",
   "language": "python",
   "name": "python3"
  },
  "language_info": {
   "codemirror_mode": {
    "name": "ipython",
    "version": 3
   },
   "file_extension": ".py",
   "mimetype": "text/x-python",
   "name": "python",
   "nbconvert_exporter": "python",
   "pygments_lexer": "ipython3",
   "version": "3.7.3"
  }
 },
 "nbformat": 4,
 "nbformat_minor": 2
}
