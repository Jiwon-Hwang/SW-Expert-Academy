{
 "cells": [
  {
   "cell_type": "markdown",
   "metadata": {},
   "source": [
    "<hr>"
   ]
  },
  {
   "cell_type": "markdown",
   "metadata": {},
   "source": [
    "# [연습문제]"
   ]
  },
  {
   "cell_type": "markdown",
   "metadata": {},
   "source": [
    "#### 1. 다음은 10명의 학생들의 혈액형(A, B, AB, O) 데이터입니다.\n",
    "\n",
    "['A', 'A', 'A', 'O', 'B', 'B', 'O', 'AB', 'AB', 'O']  \n",
    "\n",
    "for 문을 이용하여 각 혈액형 별 학생수를 구하십시오.  \n",
    "\n",
    "* 입력 :  \n",
    "* 출력 : {'A': 3, 'O': 3, 'B': 2, 'AB': 2}"
   ]
  },
  {
   "cell_type": "code",
   "execution_count": 3,
   "metadata": {},
   "outputs": [
    {
     "name": "stdout",
     "output_type": "stream",
     "text": [
      "{'A': 3, 'O': 3, 'B': 2, 'AB': 2}\n"
     ]
    }
   ],
   "source": [
    "a,o,b,ab = 0,0,0,0\n",
    "arr=['A', 'A', 'A', 'O', 'B', 'B', 'O', 'AB', 'AB', 'O']\n",
    "for v in arr:\n",
    "    if v == 'A' : a+=1\n",
    "    elif v == 'O' : o+=1\n",
    "    elif v == 'B' : b+=1\n",
    "    else : ab+=1\n",
    "print(\"{'A': %d, 'O': %d, 'B': %d, 'AB': %d}\"%(a,o,b,ab))"
   ]
  },
  {
   "cell_type": "markdown",
   "metadata": {},
   "source": [
    "#### 2. 다음은 학생의 점수를 나타내는 리스트입니다.\n",
    "\n",
    "[85, 65, 77, 83, 75, 22, 98, 88, 38, 100]\n",
    "\n",
    "while 문과 리스트 객체의 pop()을 이용해 80점 이상의 점수들의 총합을 구하시오.\n",
    "* 입력 :  \n",
    "* 출력 : 454"
   ]
  },
  {
   "cell_type": "markdown",
   "metadata": {},
   "source": [
    "> cf. 리스트 요소 끄집어내기(pop()함수) \n",
    "* pop()은 리스트의 맨 마지막 값을 return하고, 그 요소는 삭제한다.\n",
    "    * a = [1,2,3] \n",
    "    * a.pop() => 3 (return)\n",
    "    * a => [1,2]\n",
    "* pop(x)는 리스트의 x번째 인덱스에 해당하는 값을 return하고, 그 요소는 삭제한다.\n",
    "    * a.pop(1) => 2 (return)\n",
    "    * a => [1,3]"
   ]
  },
  {
   "cell_type": "code",
   "execution_count": null,
   "metadata": {},
   "outputs": [],
   "source": []
  }
 ],
 "metadata": {
  "kernelspec": {
   "display_name": "Python 3",
   "language": "python",
   "name": "python3"
  },
  "language_info": {
   "codemirror_mode": {
    "name": "ipython",
    "version": 3
   },
   "file_extension": ".py",
   "mimetype": "text/x-python",
   "name": "python",
   "nbconvert_exporter": "python",
   "pygments_lexer": "ipython3",
   "version": "3.7.3"
  }
 },
 "nbformat": 4,
 "nbformat_minor": 2
}
