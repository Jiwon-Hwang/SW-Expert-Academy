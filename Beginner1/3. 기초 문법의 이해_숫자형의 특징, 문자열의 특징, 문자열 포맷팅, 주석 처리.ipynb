{
 "cells": [
  {
   "cell_type": "markdown",
   "metadata": {},
   "source": [
    "### 개행해서 출력하는 방법"
   ]
  },
  {
   "cell_type": "code",
   "execution_count": 10,
   "metadata": {},
   "outputs": [
    {
     "name": "stdout",
     "output_type": "stream",
     "text": [
      "메롱\n",
      "나는\n",
      "지원\n",
      "\n",
      "메롱\n",
      "나는\n",
      "지원\n",
      "\n"
     ]
    }
   ],
   "source": [
    "print('''메롱\n",
    "나는\n",
    "지원''')\n",
    "print()\n",
    "print('메롱\\n나는\\n지원\\n')"
   ]
  },
  {
   "cell_type": "markdown",
   "metadata": {},
   "source": [
    "### 역슬레시( \\ )와의 이스케이프 문자 조합 => \\ , ' , \" 출력하기"
   ]
  },
  {
   "cell_type": "code",
   "execution_count": 19,
   "metadata": {
    "scrolled": true
   },
   "outputs": [
    {
     "name": "stdout",
     "output_type": "stream",
     "text": [
      "1. 역슬레시 \\를 출력할라면 이렇게 \\\\ 역슬레시 두번 ~\n",
      "2. 작은따옴표 '를 출력할라면 이렇게 \\' 역슬레시에 작은따옴표 ~\n"
     ]
    }
   ],
   "source": [
    "print('1. 역슬레시 \\\\를 출력할라면 이렇게 \\\\\\\\ 역슬레시 두번 ~')\n",
    "print('2. 작은따옴표 \\'를 출력할라면 이렇게 \\\\\\' 역슬레시에 작은따옴표 ~')"
   ]
  },
  {
   "cell_type": "code",
   "execution_count": 25,
   "metadata": {},
   "outputs": [
    {
     "name": "stdout",
     "output_type": "stream",
     "text": [
      "***\t***\t***\n",
      "\\t는 tab, \\n은 개행\n"
     ]
    }
   ],
   "source": [
    "print('***\\t***\\t***\\n\\\\t는 tab, \\\\n은 개행')"
   ]
  },
  {
   "cell_type": "markdown",
   "metadata": {},
   "source": [
    "## [문자열 포맷팅 : 다양하게 변환해, 모두 '문자열'로 출력!]"
   ]
  },
  {
   "cell_type": "markdown",
   "metadata": {},
   "source": [
    "### 1. %를 이용한 문자열 포맷팅"
   ]
  },
  {
   "cell_type": "code",
   "execution_count": 49,
   "metadata": {},
   "outputs": [
    {
     "name": "stdout",
     "output_type": "stream",
     "text": [
      "내 이름은 홍길동입니다.\n",
      "내 나이는 24살입니다.\n",
      "결혼 : False\n",
      "이름 : 홍길동, 나이 : 24\n",
      "이름 : 홍길동, 나이 : 24\n",
      "\n",
      "98점은 상위 1%에 속합니다.\n"
     ]
    }
   ],
   "source": [
    "# %s\n",
    "print('내 이름은 %s입니다.' % '홍길동') # %s : % 뒤의 값을 '문자열'로 변환해 출력해줌! \n",
    "print('내 나이는 %s살입니다.' % 24) # 따라서 24 자체는 숫자형이지만, %s 가 문자열(string)으로 변환해서 출력!\n",
    "print('결혼 : %s' % False) # bool형(True, False)도 문자열로 변환해 출력\n",
    "print('이름 : %s, 나이 : %s' % ('홍길동', 24)) # Tuple이라는 자료구조를 사용해, 각 원소를 인자로 각각 받아서 문자열로 출력~\n",
    "print('이름 : %(name)s, 나이 : %(age)s' % {'name':'홍길동', 'age':24}) # Dictionary 자료구조 사용!\n",
    "print()\n",
    "print('%d점은 상위 %d%%에 속합니다.' % (98, 1)) # %% : %라는 문자 출력하는 방법"
   ]
  },
  {
   "cell_type": "code",
   "execution_count": 40,
   "metadata": {
    "scrolled": true
   },
   "outputs": [
    {
     "name": "stdout",
     "output_type": "stream",
     "text": [
      "a a 97\n"
     ]
    }
   ],
   "source": [
    "# %c, %d\n",
    "print('%c %c %d' % (97, 'a', 97)) \n",
    "\n",
    "# %c : 유니코드 문자로 변환(유니코드상에서, 문자 'a' == 정수 97)\n",
    "# %d : 10진수 정수 형태로 변환"
   ]
  },
  {
   "cell_type": "code",
   "execution_count": 44,
   "metadata": {
    "scrolled": true
   },
   "outputs": [
    {
     "name": "stdout",
     "output_type": "stream",
     "text": [
      "10, 12, a\n",
      "f 10\n"
     ]
    }
   ],
   "source": [
    "# %d, %o, %x\n",
    "print('%d, %o, %x' % (10,10,10)) # 10(10), 12(8), a(16)\n",
    "print('%x %x' % (15,16)) # 16진수 : 16으로 나눠서 나머지 15면 f\n",
    "\n",
    "# %d : 10진 정수로 변환해 '문자열로' 출력 (decimal)\n",
    "# %o : 8진 정수로 변환해 '문자열로' 출력 (octal) => 8진수 : 0,1,2,3,4,5,6,7 (총 8가지)\n",
    "# %x : 16진 정수로 변환해 '문자열로' 출력 (hexadecimal) => 16진수 : 0,1,2,3,4,5,6,7,8,9,a,b,c,d,e,f (총 16가지)"
   ]
  },
  {
   "cell_type": "code",
   "execution_count": 46,
   "metadata": {},
   "outputs": [
    {
     "name": "stdout",
     "output_type": "stream",
     "text": [
      "3 3.140000\n"
     ]
    }
   ],
   "source": [
    "# %d, %f\n",
    "print('%d %f' % (3.14, 3.14))\n",
    "\n",
    "# %d : 정수부분까지만 '문자열로' 출력\n",
    "# %f : 소숫점 아래 6자리까지 '문자열로' 출력"
   ]
  },
  {
   "cell_type": "markdown",
   "metadata": {},
   "source": [
    "#### 문자열 출력 폭 & 정렬"
   ]
  },
  {
   "cell_type": "code",
   "execution_count": 61,
   "metadata": {
    "scrolled": true
   },
   "outputs": [
    {
     "name": "stdout",
     "output_type": "stream",
     "text": [
      "      우측정렬\n",
      "좌측정렬      \n",
      "1111111111\n",
      "      3.14\n",
      "0000003.14\n"
     ]
    }
   ],
   "source": [
    "print('%10s' % '우측정렬') # 총 문자열 폭은 10칸, 오른쪽 정렬\n",
    "print('%-10s' % '좌측정렬') # 총 문자열 폭은 10칸, 왼쪽 정렬\n",
    "print('1111111111')\n",
    "print('%10.2f' % 3.141592) # 소수점 아래 포함, 총 문자열 폭은 10칸, 오른쪽 정렬, 0.2f는 소수점아래 2자리까지만 출력\n",
    "print('%010.2f' % 3.141592) # 위와 같은 조건 & 남은 자리들은 모두 0으로 채움"
   ]
  },
  {
   "cell_type": "markdown",
   "metadata": {},
   "source": [
    "### 2. .format() 함수를 이용한 문자열 포맷팅"
   ]
  },
  {
   "cell_type": "code",
   "execution_count": 66,
   "metadata": {
    "scrolled": true
   },
   "outputs": [
    {
     "name": "stdout",
     "output_type": "stream",
     "text": [
      "이름 : 홍길동, 나이 : 24\n",
      "이름 : 24, 나이 : 홍길동\n"
     ]
    }
   ],
   "source": [
    "print('이름 : {1}, 나이 : {0}'.format(24, '홍길동'))\n",
    "print('이름 : {}, 나이 : {}'.format(24, '홍길동')) # 인덱스 생략하면, 순차적으로 넣어서 출력됨"
   ]
  },
  {
   "cell_type": "code",
   "execution_count": 27,
   "metadata": {
    "scrolled": false
   },
   "outputs": [
    {
     "name": "stdout",
     "output_type": "stream",
     "text": [
      "a f 0000003.14\n",
      "3.00\n"
     ]
    }
   ],
   "source": [
    "print('{0:c} {1:x} {2:010.2f}'.format(97, 15, 3.141592)) # 인덱스 뒤에 :c, :x 이렇게 하면, 인자로 들어온 값을 알맞은 형태로 변환해서 출력!\n",
    "print('{0:.2f}'.format(3)) # 정수형인 3을 float형으로 변환해 출력, 소수점아래 둘째자리까지만"
   ]
  },
  {
   "cell_type": "code",
   "execution_count": 8,
   "metadata": {},
   "outputs": [
    {
     "name": "stdout",
     "output_type": "stream",
     "text": [
      "이름은 홍길동이고, 나이는 3.141592세입니다.\n"
     ]
    }
   ],
   "source": [
    "# 변수명으로 인자 전달해서 문자열 포맷팅\n",
    "print('이름은 {name}이고, 나이는 {age}세입니다.'.format(name='홍길동', age=3.141592)) # {name} : 이름이 name인 인자의 값으로 변환해줌"
   ]
  },
  {
   "cell_type": "code",
   "execution_count": 43,
   "metadata": {},
   "outputs": [
    {
     "name": "stdout",
     "output_type": "stream",
     "text": [
      "3.14159200\n",
      "003.141592\n",
      " 3.141592 \n",
      "03.1415920\n",
      "*******별로 채우기*******\n",
      "      3.00\n",
      "3.00      \n"
     ]
    }
   ],
   "source": [
    "# 출력폭 & 정렬 & 나머지는 특정 문자로 채우기 (0, *, ... 등) => 채울 문자는 정렬기호 앞에다 써주기!\n",
    "print('{0:<010}'.format(3.141592)) # < : 왼쪽 정렬\n",
    "print('{0:>010}'.format(3.141592)) # > : 오른쪽 정렬\n",
    "print('{0:^10}'.format(3.141592)) # ^ : 중앙 정렬\n",
    "print('{0:0^10}'.format(3.141592)) # ^ : 중앙 정렬(0은 ^왼쪽이든 오른쪽이든 상관없는듯..)\n",
    "print('{0:*^20}'.format('별로 채우기')) # *으로 나머지 채우기 (나머지를 채울 문자는 정렬기호 앞에다가 써주기!!!)\n",
    "print('{age:10.2f}'.format(age=3)) # age라는 변수의 값을 float형으로 출력~\n",
    "print('{age:<10.2f}'.format(age=3)) # age라는 변수의 값을 float형으로 출력~ + 왼쪽 정렬"
   ]
  }
 ],
 "metadata": {
  "kernelspec": {
   "display_name": "Python 3",
   "language": "python",
   "name": "python3"
  },
  "language_info": {
   "codemirror_mode": {
    "name": "ipython",
    "version": 3
   },
   "file_extension": ".py",
   "mimetype": "text/x-python",
   "name": "python",
   "nbconvert_exporter": "python",
   "pygments_lexer": "ipython3",
   "version": "3.7.3"
  }
 },
 "nbformat": 4,
 "nbformat_minor": 2
}
