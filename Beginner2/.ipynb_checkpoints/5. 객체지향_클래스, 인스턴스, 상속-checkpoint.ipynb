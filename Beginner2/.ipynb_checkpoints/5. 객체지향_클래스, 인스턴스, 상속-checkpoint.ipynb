{
 "cells": [
  {
   "cell_type": "markdown",
   "metadata": {},
   "source": [
    "## [ 객체지향 ]"
   ]
  },
  {
   "cell_type": "markdown",
   "metadata": {},
   "source": [
    "### 객체지향의 이해\n",
    "* **객체(=인스턴스)** : **변수(속성)**와 **메서드(행위)**가 서로 연관된 것들끼리 묶어 만든 것  \n",
    "* **클래스** : 사용자 정의 **데이터 타입**, 객체 생성을 위한 **템플릿** ('캡슐화', '추상 데이터 타입')"
   ]
  },
  {
   "cell_type": "code",
   "execution_count": 1,
   "metadata": {
    "scrolled": false
   },
   "outputs": [
    {
     "name": "stdout",
     "output_type": "stream",
     "text": [
      "홍길동\t20\n",
      "이순신\t45\n",
      "강감찬\t35\n"
     ]
    }
   ],
   "source": [
    "# 딕셔너리 및 리스트 객체를 이용한 코드 생성\n",
    "members = [\n",
    "    {'name' : '홍길동', 'age' : 20},\n",
    "    {'name' : '이순신', 'age' : 45},\n",
    "    {'name' : '강감찬', 'age' : 35}\n",
    "] # name과 age를 키로 하는 딕셔너리 객체 3개 생성 및 members 리스트 객체\n",
    "\n",
    "for member in members: # member : 3개의 딕셔너리 객체 각각 하나씩 (한 명)\n",
    "    print('{0}\\t{1}'.format(member['name'], member['age']))"
   ]
  },
  {
   "cell_type": "markdown",
   "metadata": {},
   "source": [
    "### 클래스 정의\n",
    "* **클래스 정의**  \n",
    "class 클래스 명 :  \n",
    "... (필드와 메서드 정의해 사용 가능)\n",
    "  \n",
    "  \n",
    "* **객체 생성**   \n",
    "변수 = 클래스명()\n",
    "> 생성자 메서드 : 클래스 이름과 동일한 메서드"
   ]
  },
  {
   "cell_type": "code",
   "execution_count": 2,
   "metadata": {},
   "outputs": [
    {
     "name": "stdout",
     "output_type": "stream",
     "text": [
      "member는 Person 클래스의 인스턴스입니다.\n"
     ]
    }
   ],
   "source": [
    "# 특정 객체가 특정 클래스의 인스턴스인지 검사\n",
    "class Person:\n",
    "    pass\n",
    "\n",
    "member = Person()\n",
    "\n",
    "if isinstance(member, Person):\n",
    "    print('member는 Person 클래스의 인스턴스입니다.')"
   ]
  },
  {
   "cell_type": "markdown",
   "metadata": {},
   "source": [
    "### 생성자, 소멸자, self\n",
    "* **생성자 메서드** : 객체를 생성하기 위해 호출 ==> **__ init __** 메서드 실행됨\n",
    "* **소멸자 메서드** : 객체를 소멸시키기 위해 호출 ==> **__ del __** 메서드 실행됨\n",
    "    * cf. 소멸자 메서드는 생성자 메서드와 달리 매개변수로 **self만** 사용!"
   ]
  },
  {
   "cell_type": "code",
   "execution_count": 6,
   "metadata": {},
   "outputs": [
    {
     "name": "stdout",
     "output_type": "stream",
     "text": [
      "홍길동 객체가 생성되었습니다.\n",
      "홍길동 객체가 제거되었습니다.\n",
      "홍길동\t20\n",
      "['__class__', '__del__', '__delattr__', '__dict__', '__dir__', '__doc__', '__eq__', '__format__', '__ge__', '__getattribute__', '__gt__', '__hash__', '__init__', '__init_subclass__', '__le__', '__lt__', '__module__', '__ne__', '__new__', '__reduce__', '__reduce_ex__', '__repr__', '__setattr__', '__sizeof__', '__str__', '__subclasshook__', '__weakref__', 'age', 'name']\n"
     ]
    }
   ],
   "source": [
    "class Person:\n",
    "    # init 생성자 메서드 정의\n",
    "    '''\n",
    "    - self : 생성된 객체 공간의 참조가 전달됨 (객체 공간 가리키는 식별자)\n",
    "    - name, age : self가 가리키는 객체 공간에 name, age 필드를 생성함\n",
    "    '''\n",
    "    def __init__(self, name, age): \n",
    "        self.name = name\n",
    "        self.age = age\n",
    "        print('{0} 객체가 생성되었습니다.'.format(self.name))\n",
    "        \n",
    "    def __del__(self):\n",
    "        print('{0} 객체가 제거되었습니다.'.format(self.name))\n",
    "        \n",
    "member = Person('홍길동', 20) # member 객체 생성 (생성자 메서드로)\n",
    "\n",
    "print('{0}\\t{1}'.format(member.name, member.age))\n",
    "\n",
    "print(dir(member)) # member 객체가 갖고 있는 정보 확인"
   ]
  },
  {
   "cell_type": "markdown",
   "metadata": {},
   "source": [
    "### 인스턴스 메서드 정의\n",
    "self(식별자)가 가리키는 객체의 **필드 정보에 접근**해, 특정 목적의 기능을 수행하도록 정의된 메서드"
   ]
  },
  {
   "cell_type": "code",
   "execution_count": 12,
   "metadata": {
    "scrolled": true
   },
   "outputs": [
    {
     "name": "stdout",
     "output_type": "stream",
     "text": [
      "홍길동 객체가 생성되었습니다.\n",
      "이순신 객체가 생성되었습니다.\n",
      "강감찬 객체가 생성되었습니다.\n",
      "이순신 객체가 제거되었습니다.\n",
      "홍길동 객체가 제거되었습니다.\n",
      "강감찬 객체가 제거되었습니다.\n",
      "홍길동\t20\n",
      "이순신\t45\n",
      "강감찬\t35\n"
     ]
    }
   ],
   "source": [
    "class Person:\n",
    "    def __init__(self, name, age): \n",
    "        self.name = name\n",
    "        self.age = age\n",
    "        print('{0} 객체가 생성되었습니다.'.format(self.name))\n",
    "        \n",
    "    def __del__(self):\n",
    "        print('{0} 객체가 제거되었습니다.'.format(self.name))\n",
    "        \n",
    "    def to_str(self): # to_str : 인스턴스 메서드, name과 age 필드를 문자열로 반환\n",
    "        return '{0}\\t{1}'.format(self.name, self.age)\n",
    "    \n",
    "    \n",
    "# Person 클래스의 객체 3개를 항목으로 가진 members 리스트 객체 생성\n",
    "members = [\n",
    "    Person('홍길동', 20),\n",
    "    Person('이순신', 45),\n",
    "    Person('강감찬', 35)\n",
    "]\n",
    "\n",
    "for member in members:\n",
    "    print(member.to_str()) # to_str : member 객체의 메서드"
   ]
  },
  {
   "cell_type": "markdown",
   "metadata": {},
   "source": [
    "### 인스턴스 변수 정의\n",
    "클래스 내에서 **self.변수** 형태를 가지는 변수\n",
    "> **객체마다 가지고 있는 객체 고유의 정보**"
   ]
  },
  {
   "cell_type": "markdown",
   "metadata": {},
   "source": [
    "### 멤버 필드의 접근 제한이 이루어지지 않을 경우?\n",
    "입력 시 **유효성 검사**를 할 수 없으므로, **잘못된 값이 저장**될 수 있음  \n",
    "(지나치게 높은 값 or 음수 값 등...)    \n",
    "> **캡슐화된 필드**로 만드는 것이 필요할 수 있음 (멤버 필드로의 직접 접근 제한!)"
   ]
  },
  {
   "cell_type": "code",
   "execution_count": 13,
   "metadata": {},
   "outputs": [
    {
     "ename": "AttributeError",
     "evalue": "'Person' object has no attribute 'name'",
     "output_type": "error",
     "traceback": [
      "\u001b[1;31m---------------------------------------------------------------------------\u001b[0m",
      "\u001b[1;31mAttributeError\u001b[0m                            Traceback (most recent call last)",
      "\u001b[1;32m<ipython-input-13-cb05f13b65a5>\u001b[0m in \u001b[0;36m<module>\u001b[1;34m\u001b[0m\n\u001b[0;32m     30\u001b[0m \u001b[1;33m\u001b[0m\u001b[0m\n\u001b[0;32m     31\u001b[0m members = [\n\u001b[1;32m---> 32\u001b[1;33m     \u001b[0mPerson\u001b[0m\u001b[1;33m(\u001b[0m\u001b[1;34m'홍길동'\u001b[0m\u001b[1;33m,\u001b[0m \u001b[1;36m20\u001b[0m\u001b[1;33m)\u001b[0m\u001b[1;33m,\u001b[0m\u001b[1;33m\u001b[0m\u001b[1;33m\u001b[0m\u001b[0m\n\u001b[0m\u001b[0;32m     33\u001b[0m     \u001b[0mPerson\u001b[0m\u001b[1;33m(\u001b[0m\u001b[1;34m'이순신'\u001b[0m\u001b[1;33m,\u001b[0m \u001b[1;36m45\u001b[0m\u001b[1;33m)\u001b[0m\u001b[1;33m,\u001b[0m\u001b[1;33m\u001b[0m\u001b[1;33m\u001b[0m\u001b[0m\n\u001b[0;32m     34\u001b[0m     \u001b[0mPerson\u001b[0m\u001b[1;33m(\u001b[0m\u001b[1;34m'강감찬'\u001b[0m\u001b[1;33m,\u001b[0m \u001b[1;36m35\u001b[0m\u001b[1;33m)\u001b[0m\u001b[1;33m\u001b[0m\u001b[1;33m\u001b[0m\u001b[0m\n",
      "\u001b[1;32m<ipython-input-13-cb05f13b65a5>\u001b[0m in \u001b[0;36m__init__\u001b[1;34m(self, name, age)\u001b[0m\n\u001b[0;32m      9\u001b[0m         \u001b[0mself\u001b[0m\u001b[1;33m.\u001b[0m\u001b[0m__name\u001b[0m \u001b[1;33m=\u001b[0m \u001b[0mname\u001b[0m \u001b[1;31m# __(더블 언더스코어)로 프라이빗 필드 생성\u001b[0m\u001b[1;33m\u001b[0m\u001b[1;33m\u001b[0m\u001b[0m\n\u001b[0;32m     10\u001b[0m         \u001b[0mself\u001b[0m\u001b[1;33m.\u001b[0m\u001b[0m__age\u001b[0m \u001b[1;33m=\u001b[0m \u001b[0mage\u001b[0m\u001b[1;33m\u001b[0m\u001b[1;33m\u001b[0m\u001b[0m\n\u001b[1;32m---> 11\u001b[1;33m         \u001b[0mprint\u001b[0m\u001b[1;33m(\u001b[0m\u001b[1;34m'{0} 객체가 생성되었습니다.'\u001b[0m\u001b[1;33m.\u001b[0m\u001b[0mformat\u001b[0m\u001b[1;33m(\u001b[0m\u001b[0mself\u001b[0m\u001b[1;33m.\u001b[0m\u001b[0mname\u001b[0m\u001b[1;33m)\u001b[0m\u001b[1;33m)\u001b[0m\u001b[1;33m\u001b[0m\u001b[1;33m\u001b[0m\u001b[0m\n\u001b[0m\u001b[0;32m     12\u001b[0m \u001b[1;33m\u001b[0m\u001b[0m\n\u001b[0;32m     13\u001b[0m     \u001b[1;32mdef\u001b[0m \u001b[0m__del__\u001b[0m\u001b[1;33m(\u001b[0m\u001b[0mself\u001b[0m\u001b[1;33m)\u001b[0m\u001b[1;33m:\u001b[0m\u001b[1;33m\u001b[0m\u001b[1;33m\u001b[0m\u001b[0m\n",
      "\u001b[1;31mAttributeError\u001b[0m: 'Person' object has no attribute 'name'"
     ]
    }
   ],
   "source": [
    "# 인스턴스 변수의 접근 제한 기능\n",
    "'''\n",
    "프라이빗 필드 생성 ==> getter, setter 메서드의 제공 여부에 대한 고민 필요!\n",
    "    - getter : 멤버를 읽어오는 메서드\n",
    "    - setter : 멤버를 변경하는 메서드\n",
    "'''\n",
    "class Person:\n",
    "    def __init__(self, name, age):\n",
    "        self.__name = name # __(더블 언더스코어)로 프라이빗 필드 생성\n",
    "        self.__age = age\n",
    "        print('{0} 객체가 생성되었습니다.'.format(self.name))\n",
    "        \n",
    "    def __del__(self):\n",
    "        print('{0} 객체가 제거되었습니다.'.format(self.name))\n",
    "        \n",
    "    def to_str(self): # to_str : 인스턴스 메서드, name과 age 필드를 문자열로 반환\n",
    "        return '{0}\\t{1}'.format(self.name, self.age)\n",
    "    \n",
    "    def get_name(self): # get_name : __name 필드의 값을 반환하는 'getter' 메서드\n",
    "        return self.__name # __name 필드에 대해서는 'getter' 메서드만 제공\n",
    "    \n",
    "    def get_age(self):\n",
    "        return self.__age\n",
    "    \n",
    "    def set_age(self, age): # set_age : __age 필드의 값을 변경하는 메서드\n",
    "        if age < 0 :\n",
    "            raise TypeError('나이는 0이상의 값만 허용합니다.')\n",
    "        self.__age = age\n",
    "\n",
    "\n",
    "members = [\n",
    "    Person('홍길동', 20),\n",
    "    Person('이순신', 45),\n",
    "    Person('강감찬', 35)\n",
    "]\n",
    "\n",
    "members[0].set_age(-20)\n",
    "\n",
    "for member in members:\n",
    "    print(member.to_str())"
   ]
  },
  {
   "cell_type": "markdown",
   "metadata": {},
   "source": [
    "<hr>"
   ]
  },
  {
   "cell_type": "markdown",
   "metadata": {},
   "source": [
    "# [연습문제]"
   ]
  },
  {
   "cell_type": "markdown",
   "metadata": {},
   "source": [
    "리스트 내포 기능을 이용해 다음 문장으로부터 모음('aeiou')을 제거하십시오.  \n",
    "'Python is powerful... and fast; plays well with others; runs everywhere; is friendly & easy to learn; is Open.'  \n",
    "\n",
    "* 입력 : \n",
    "* 출력 : Pythn s pwrfl... nd fst; plys wll wth thrs; rns vrywhr; s frndly & sy t lrn; s Opn."
   ]
  },
  {
   "cell_type": "code",
   "execution_count": 10,
   "metadata": {
    "scrolled": true
   },
   "outputs": [
    {
     "name": "stdout",
     "output_type": "stream",
     "text": [
      "Pythn s pwrfl... nd fst; plys wll wth thrs; rns vrywhr; s frndly & sy t lrn; s Opn.\n"
     ]
    }
   ],
   "source": [
    "sen = 'Python is powerful... and fast; plays well with others; runs everywhere; is friendly & easy to learn; is Open.'\n",
    "result = [i for i in sen if i not in 'aeiou']\n",
    "print(''.join(result))"
   ]
  }
 ],
 "metadata": {
  "kernelspec": {
   "display_name": "Python 3",
   "language": "python",
   "name": "python3"
  },
  "language_info": {
   "codemirror_mode": {
    "name": "ipython",
    "version": 3
   },
   "file_extension": ".py",
   "mimetype": "text/x-python",
   "name": "python",
   "nbconvert_exporter": "python",
   "pygments_lexer": "ipython3",
   "version": "3.7.3"
  }
 },
 "nbformat": 4,
 "nbformat_minor": 2
}
