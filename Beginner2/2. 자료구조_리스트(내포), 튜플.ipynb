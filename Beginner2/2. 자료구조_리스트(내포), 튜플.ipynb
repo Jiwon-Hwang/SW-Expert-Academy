{
 "cells": [
  {
   "cell_type": "markdown",
   "metadata": {},
   "source": [
    "## [ 리스트 내포 ]"
   ]
  },
  {
   "cell_type": "markdown",
   "metadata": {},
   "source": [
    "### 리스트와 for문"
   ]
  },
  {
   "cell_type": "code",
   "execution_count": 1,
   "metadata": {
    "scrolled": false
   },
   "outputs": [
    {
     "name": "stdout",
     "output_type": "stream",
     "text": [
      "[1, 2, 3, 4, 5]\n"
     ]
    }
   ],
   "source": [
    "data_list1 = [1,2,3,4,5]\n",
    "data_list2 = []\n",
    "for i in data_list1: # data_list1의 모든 항목들을(i) data_list2에 하나씩 뒤에 붙이기\n",
    "    data_list2.append(i)\n",
    "print(data_list2)"
   ]
  },
  {
   "cell_type": "markdown",
   "metadata": {},
   "source": [
    "### 리스트의 내포 기능\n",
    "**반복 가능한 자료형**의 경우 **리터럴 안에서 for문**을 사용하면 **내포 기능** 사용 가능\n",
    ">cf. 리터럴 : 변수의 값이 변하지 않는 데이터(ex. int a = 1 에서 1)  \n",
    ">cf. 상수 : 변하지 않는 변수.  \n",
    "\n",
    "* **리스트 내포(List Comprehensions)** : **리스트 안에서 for문과 if문을 사용**하는 것.\n",
    "* for문과 if문을 한 라인에 작성하여 **코드를 직관적으로** 만들고,\n",
    "* **실행 속도**도 높여준다."
   ]
  },
  {
   "cell_type": "code",
   "execution_count": 2,
   "metadata": {
    "scrolled": false
   },
   "outputs": [
    {
     "name": "stdout",
     "output_type": "stream",
     "text": [
      "[1, 2, 3, 4, 5]\n"
     ]
    }
   ],
   "source": [
    "data_list3 = [item for item in data_list1] # item : list에 넣을 값(변수)\n",
    "print(data_list3)"
   ]
  },
  {
   "cell_type": "code",
   "execution_count": 4,
   "metadata": {},
   "outputs": [
    {
     "name": "stdout",
     "output_type": "stream",
     "text": [
      "[1, 3, 5]\n",
      "[1, 3, 5]\n"
     ]
    }
   ],
   "source": [
    "# for문, if문, list에 할당 따로 (리스트 내포 X)\n",
    "data_list4 = []  # 미리 빈 리스트 할당 후 값 append로 넣어주기\n",
    "for item in data_list1:\n",
    "    if item%2 == 1: \n",
    "        data_list4.append(item)\n",
    "print(data_list4)\n",
    "\n",
    "# 리스트 리터럴 안에서 for문 사용 (리스트 내포 O)\n",
    "data_list5 = [item for item in data_list1 if item % 2 == 1]\n",
    "print(data_list5)"
   ]
  },
  {
   "cell_type": "code",
   "execution_count": 6,
   "metadata": {},
   "outputs": [
    {
     "name": "stdout",
     "output_type": "stream",
     "text": [
      "[2, 4, 6, 12, 10, 20]\n",
      "[2, 4, 6, 12, 10, 20]\n"
     ]
    }
   ],
   "source": [
    "# 리스트 내포 X\n",
    "data_list7 = []\n",
    "for x in data_list1:\n",
    "    if x % 2 == 1:\n",
    "        for y in data_list1:\n",
    "            if y % 2 == 0:\n",
    "                data_list7.append(x*y) # 홀수 항목(x)과 짝수 항목(y)의 곱셈\n",
    "print(data_list7)\n",
    "\n",
    "# 리스트 내포 O\n",
    "data_list8 = [x*y for x in data_list1 if x % 2 == 1 for y in data_list1 if y % 2 == 0]\n",
    "print(data_list8)"
   ]
  },
  {
   "cell_type": "code",
   "execution_count": 8,
   "metadata": {},
   "outputs": [
    {
     "name": "stdout",
     "output_type": "stream",
     "text": [
      "['h', 'e', 'l', 'l', 'o', ',', ' ', 'p', 'y', 't', 'h', 'o', 'n', '!']\n",
      "hello, python!\n"
     ]
    }
   ],
   "source": [
    "data_str = 'Hello, Python!'\n",
    "data_list9 = [item.lower() for item in data_str]\n",
    "print(data_list9)\n",
    "print(''.join(data_list9))"
   ]
  },
  {
   "cell_type": "markdown",
   "metadata": {},
   "source": [
    "<hr>"
   ]
  },
  {
   "cell_type": "markdown",
   "metadata": {},
   "source": [
    "# [연습문제]"
   ]
  },
  {
   "cell_type": "markdown",
   "metadata": {},
   "source": [
    "리스트 내포 기능을 이용해 다음 문장으로부터 모음('aeiou')을 제거하십시오.  \n",
    "'Python is powerful... and fast; plays well with others; runs everywhere; is friendly & easy to learn; is Open.'  \n",
    "\n",
    "* 입력 : \n",
    "* 출력 : Pythn s pwrfl... nd fst; plys wll wth thrs; rns vrywhr; s frndly & sy t lrn; s Opn."
   ]
  },
  {
   "cell_type": "code",
   "execution_count": 10,
   "metadata": {
    "scrolled": true
   },
   "outputs": [
    {
     "name": "stdout",
     "output_type": "stream",
     "text": [
      "Pythn s pwrfl... nd fst; plys wll wth thrs; rns vrywhr; s frndly & sy t lrn; s Opn.\n"
     ]
    }
   ],
   "source": [
    "sen = 'Python is powerful... and fast; plays well with others; runs everywhere; is friendly & easy to learn; is Open.'\n",
    "result = [i for i in sen if i not in 'aeiou']\n",
    "print(''.join(result))"
   ]
  }
 ],
 "metadata": {
  "kernelspec": {
   "display_name": "Python 3",
   "language": "python",
   "name": "python3"
  },
  "language_info": {
   "codemirror_mode": {
    "name": "ipython",
    "version": 3
   },
   "file_extension": ".py",
   "mimetype": "text/x-python",
   "name": "python",
   "nbconvert_exporter": "python",
   "pygments_lexer": "ipython3",
   "version": "3.7.3"
  }
 },
 "nbformat": 4,
 "nbformat_minor": 2
}
